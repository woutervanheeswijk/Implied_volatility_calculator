{
 "cells": [
  {
   "cell_type": "markdown",
   "metadata": {},
   "source": [
    "## Import libraries"
   ]
  },
  {
   "cell_type": "code",
   "execution_count": 1,
   "metadata": {},
   "outputs": [],
   "source": [
    "import numpy as np\n",
    "import pandas as pd\n",
    "import matplotlib.pyplot as plt\n",
    "from math import exp, sqrt, log\n",
    "from scipy.stats import norm"
   ]
  },
  {
   "cell_type": "markdown",
   "metadata": {},
   "source": [
    "## Black-Scholes equations for call and put options"
   ]
  },
  {
   "cell_type": "code",
   "execution_count": 2,
   "metadata": {},
   "outputs": [],
   "source": [
    "def black_scholes_call(S0, K, T, r, v):\n",
    "    d1 = (log((S0 / K)) + (r + 0.5 * (v ** 2)) * T) / (v * sqrt(T))   \n",
    "    d2 = (log((S0 / K)) + (r - 0.5 * (v ** 2)) * T) / (v * sqrt(T))\n",
    "    \n",
    "    bs_option_price = (S0 * norm.cdf(d1, 0.0, 1.0) - K * exp(-r * T) * norm.cdf(d2, 0.0, 1.0))\n",
    "\n",
    "    return bs_option_price"
   ]
  },
  {
   "cell_type": "code",
   "execution_count": 3,
   "metadata": {},
   "outputs": [],
   "source": [
    "def black_scholes_put(S0, K, T, r, v):\n",
    "    d1 = (log((S0 / K)) + (r + 0.5 * (v ** 2)) * T) / (v * sqrt(T))   \n",
    "    d2 = (log((S0 / K)) + (r - 0.5 * (v ** 2)) * T) / (v * sqrt(T))\n",
    "    \n",
    "    bs_option_price = (K * exp(-r * T) * norm.cdf(-d2, 0.0, 1.0) - S0 * norm.cdf(-d1, 0.0, 1.0))\n",
    "    \n",
    "    return bs_option_price"
   ]
  },
  {
   "cell_type": "markdown",
   "metadata": {},
   "source": [
    "## Computing Vega\n",
    "The Black-Scholes formula depends on a number of variables, for which derivatives can be computed. These so-called 'Greeks' serve as measures of the option price's sensitivity with respect to its input. The Greek Vega ${\\mathcal {V}}$ indicates the sensitivity of the option value with respect to its volatility.\n",
    "\n",
    "As the Newton-Raphson method depends on a derivative of the function of interest, we utilize Vega as this derivative. The intuition is that, if we observe a large difference between computed price and target price, we perform a larger update on the implied volatility. The closer we get to the target, the smaller the updates become."
   ]
  },
  {
   "cell_type": "code",
   "execution_count": 4,
   "metadata": {},
   "outputs": [],
   "source": [
    "def black_scholes_vega(S, K, T, r, v):\n",
    "    d1 = (log(S / K) + (r + 0.5 * v ** 2) * T) / (v * sqrt(T))\n",
    "    \n",
    "    bs_vega = S * norm.pdf(d1) * sqrt(T)\n",
    "    return bs_vega"
   ]
  },
  {
   "cell_type": "code",
   "execution_count": 5,
   "metadata": {},
   "outputs": [],
   "source": [
    "\"\"\"Implied volatility is found using the Newton-Raphson method\"\"\"\n",
    "def compute_implied_volatility(true_price, S, K, r, T, n, call_put, exercise_policy):\n",
    "    MAX_NO_ITERATIONS = 100\n",
    "    MAX_VOL_UPDATE = 0.1\n",
    "    ACCURACY = 1.0e-5\n",
    "    \n",
    "    \n",
    "    # Check if feasible solution exists (if not, return implied volatility of 0)\n",
    "    if call_put=='Call' and black_scholes_call(S, K, T, r, 1.0e-5) > true_price:\n",
    "        print('No feasible solution exists for strike price', K)\n",
    "        return 1.0e-5\n",
    "    \n",
    "    if call_put=='Put' and black_scholes_put(S, K, T, r, 1.0e-5) > true_price:\n",
    "        print('No feasible solution exists for strike price', K)\n",
    "        return 1.0e-5\n",
    "    \n",
    "    implied_vol = .5 # Initial estimate for implied volatility \n",
    "    \n",
    "    for i in range(MAX_NO_ITERATIONS):\n",
    "        # Compute price with binomial lattice, using current estimate for implied volatility\n",
    "        if call_put=='Call':\n",
    "            model_price = black_scholes_call(S, K, T, r, implied_vol)\n",
    "        elif call_put=='Put':\n",
    "            model_price = black_scholes_put(S, K, T, r, implied_vol)\n",
    "            \n",
    "        # Compute difference between model price and market price (the root) \n",
    "        diff = model_price - true_price\n",
    "\n",
    "        # Terminate algorithm if desired precision has been hit \n",
    "        if (abs(diff) < ACCURACY):\n",
    "            return implied_vol\n",
    "        \n",
    "        # Update implied volatility based on vega and observed error\n",
    "        vega = black_scholes_vega(S, K, T, r, implied_vol)\n",
    "\n",
    "        implied_vol -= np.clip(diff/vega, -MAX_VOL_UPDATE, MAX_VOL_UPDATE)\n",
    "        \n",
    "    # If maximum number of iterations is hit, simply return best estimate so far\n",
    "    return implied_vol"
   ]
  },
  {
   "cell_type": "markdown",
   "metadata": {},
   "source": [
    "## Newton-Raphson method\n",
    "We find the implied volatility with the Newton-Raphson method, a numerical solution method that aims to find the root of a function by utilizing its derivative. In general form, the Newton-Raphson method may be described as follows:\n",
    "\n",
    "$x_{n+1}=x_{n}-{\\frac {f(x_{n})}{f'(x_{n})}}$\n",
    "\n",
    "The intuition behind the method is to perform a number of iterations to estimate the implied volatility. It starts with a certain estimate for the implied volatility, computes the Black-Scholes price with that volatility, and computes the error with the real market price. Subsequently, the volatility is updated in a direction that reduces the error. Each iteration should yield a smaller error between model- and real price, until the error falls below a predefined precision. The algorithm will fail if no positive volatility exists for which the Black-Scholes equation fits the market price.\n",
    "\n",
    "The Newton-Raphson method is a root-finding algorithm, i.e., it tries to find the point for which the function becomes 0. For visualisation purposes we use the Black-Scholes call function. By subtracting the market price $C^*(S,T)$ from our model estimate, we find the root when market price equals the model price. The derivative over volatility yields vega, note this derivative is equivalent for puts and calls. Formally, the procedure is defined as follows: \n",
    "\n",
    "\n",
    "$\\sigma_{n+1}=\\sigma_{n}-{\\frac {N(d_{1})S-N(d_{2})Ke^{-rT}-C^*(S,T)}{S N'(d_{1}){\\sqrt {T}}\\,)}}$\n",
    "\n",
    "s.t.\n",
    "\n",
    "$\\\\d_{1}={\\frac {1}{\\sigma {\\sqrt {T}}}}\\left[\\ln \\left({\\frac {S}{K}}\\right)+\\left(r+{\\frac {\\sigma ^{2}}{2}}\\right)T\\right]\\\\d_{2}=d_{1}-\\sigma {\\sqrt {T}}$\n"
   ]
  },
  {
   "cell_type": "markdown",
   "metadata": {},
   "source": [
    "## Plot function"
   ]
  },
  {
   "cell_type": "code",
   "execution_count": 6,
   "metadata": {},
   "outputs": [],
   "source": [
    "def plot_vol(implied_vol_list, implied_vol_given_list, strike_prices):\n",
    "    x = strike_prices\n",
    "    fig = plt.figure()\n",
    "    ax = fig.add_axes([0, 0, 1, 1]) \n",
    "    y = implied_vol_list\n",
    "    z = implied_vol_given_list\n",
    "    ax.plot(x, y, label = \"Implied volatilities (computed)\")\n",
    "    ax.plot(x, z, label = \"Implied volatilities (given)\")\n",
    "    ax.set_xlabel('Strike price')\n",
    "    ax.set_ylabel('Implied volatility')\n",
    "    ax.set_title('Volatility smile')\n",
    "    \n",
    "    strike_labels = strike_prices[::10]\n",
    "    min_vol = min(implied_vol_list)\n",
    "    max_vol = max(implied_vol_list)\n",
    "    vol_labels = np.linspace(min_vol, max_vol, num=5, endpoint=False)\n",
    "    \n",
    "    plt.legend(loc=\"best\")\n",
    "\n",
    "    ax.set_xticklabels(strike_labels)\n",
    "    ax.set_yticks(vol_labels)\n",
    "    plt.show()"
   ]
  },
  {
   "cell_type": "markdown",
   "metadata": {},
   "source": [
    "## Example\n",
    "Real-world example using a Tesla call option chain (maturity 24-9-2021), with data obtained from [Marketbeat.com].(https://www.marketbeat.com/stocks/NASDAQ/TSLA/options/). The implied volaties as given on the website are compared to those computed in this notebook."
   ]
  },
  {
   "cell_type": "code",
   "execution_count": 7,
   "metadata": {},
   "outputs": [
    {
     "data": {
      "image/png": "[encoded data removed]",
      "text/plain": [
       "<Figure size 432x288 with 1 Axes>"
      ]
     },
     "metadata": {
      "needs_background": "light"
     },
     "output_type": "display_data"
    }
   ],
   "source": [
    "market_price_list=[630.2, 530.35, 430.375, 330.375, 320.4, 310.4, 300.425, 290.375, 280.425, 270.425, 260.45, 250.425, 240.475,\n",
    "               230.5, 220.525, 210.525, 200.575, 190.625, 180.625, 170.65, 160.7, 155.725, 150.75, 145.75, 140.825, 135.85, \n",
    "               130.875, 125.9, 120.925, 115.95, 111.025, 106.225, 101.275, 96.35, 91.575, 86.725, 81.85, 77.075, 72.3, 67.675, \n",
    "               63.025, 58.425, 53.875, 49.4, 45.25, 40.925, 36.425, 32.375, 28.3, 24.425, 20.7, 17.325, 14, 11.275, 8.625, \n",
    "               6.575, 4.875, 3.575, 2.505, 1.775, 1.265, 0.93, 0.67, 0.475, 0.37, 0.28, 0.245, 0.195, 0.17, 0.135, 0.155, 0.13, \n",
    "               0.09, 0.09, 0.08, 0.05, 0.045, 0.05, 0.04, 0.035, 0.025, 0.025, 0.02, 0.015, 0.015, 0.015, 0.02, 0.02, 0.015, \n",
    "               0.005, 0.01, 0.005, 0.01, 0.005, 0.005, 0.02, 0.01, 0.005, 0.005, 0.005, 0.005, 0.005, 0.005, 0.005, 0.005, \n",
    "               0.005]\n",
    "\n",
    "\n",
    "strike_price_list =[100, 200, 300, 400, 410, 420, 430, 440, 450, 460, 470, 480, 490, 500, 510, 520, 530, 540, 550, 560, 570, 575,\n",
    "               580, 585, 590, 595, 600, 605, 610, 615, 620, 625, 630, 635, 640, 645, 650, 655, 660, 665, 670, 675, 680, 685,\n",
    "               690, 695, 700, 705, 710, 715, 720, 725, 730, 735, 740, 745, 750, 755, 760, 765, 770, 775, 780, 785, 790, 795,\n",
    "               800, 805, 810, 815, 820, 825, 830, 840, 850, 860, 870, 880, 890, 900, 910, 920, 930, 940, 950, 960, 970, 980,\n",
    "               990, 1000.0, 1025.0, 1050.0, 1075.0, 1100.0, 1125.0, 1150.0, 1175.0, 1200.0, 1225.0, 1250.0, 1275.0, 1300.0,\n",
    "               1325.0, 1350.0, 1375.0, 1400.0]\n",
    "\n",
    "# Implied volatilities as listed on Marketbeat.com\n",
    "implied_vol_given_list = [6.06195, 4.63453, 3.31565, 2.23785, 2.21292, 2.0969, 2.03894, 1.90917, 1.87824, 1.80033, 1.75746, \n",
    "                            1.64899, 1.61048, 1.55225, 1.4933, 1.4209, 1.37375, 1.32376, 1.25259, 1.19155, 1.13842, 1.11119, \n",
    "                            1.08355, 1.04859, 1.03362, 1.0046, 0.975283, 0.945672, 0.91578, 0.885605, 0.864444, 0.86212, \n",
    "                            0.833109, 0.806976, 0.798624, 0.777865, 0.752547, 0.735303, 0.71525, 0.704378, 0.687509, 0.670471,\n",
    "                            0.652818, 0.635525, 0.630238, 0.610985, 0.579973, 0.563646, 0.540851, 0.519835, 0.497734, 0.480298,\n",
    "                            0.456357, 0.442986, 0.421857, 0.40999, 0.39917, 0.392333, 0.383535, 0.380422, 0.380413, 0.38469,\n",
    "                            0.387874, 0.390514, 0.400084, 0.407405, 0.423622, 0.433224, 0.447941, 0.456497, 0.487009, 0.497606,\n",
    "                            0.496388, 0.536827, 0.568876, 0.577966, 0.607786, 0.649774, 0.670145, 0.695238, 0.706566, 0.738175,\n",
    "                            0.754913, 0.766931, 0.796122, 0.824908, 0.873169, 0.901724, 0.908989, 0.864698, 0.973104, 0.987591,\n",
    "                            1.09743, 1.12328, 1.15919, 1.36356, 1.37417, 1.36704, 1.3681, 1.45891, 1.49971, 1.54655, 1.61797,\n",
    "                            1.63936, 1.7055, 1.74364]\n",
    "\n",
    "# Input parameters\n",
    "S0 = 730\n",
    "K = 410\n",
    "r = 0.01\n",
    "v = 0.1\n",
    "T = 3/252\n",
    "n = 10\n",
    "call_put = 'Call'\n",
    "exercise_policy = 'European'\n",
    "\n",
    "\n",
    "implied_vol_list = [0]*len(strike_price_list)\n",
    "\n",
    "\n",
    "# Compute implied volatility using Newton-Raphson\n",
    "for i in range(len(market_price_list)):\n",
    "    market_price = market_price_list[i]\n",
    "    K = strike_price_list[i]\n",
    "    implied_vol = compute_implied_volatility(market_price, S0, K, r, T, n, call_put, exercise_policy)\n",
    "    implied_vol_list[i] = implied_vol\n",
    "    \n",
    " #   print('Strike price: %.3f' % K)\n",
    " #   print('Implied volatility: %.3f%%' % (implied_vol * 100))\n",
    " #   print('True market price: %.3f' % market_price)\n",
    " #   print('Black-Scholes price: %.3f' % black_scholes_call(S0, K, T, r, v),'\\n')\n",
    "\n",
    "    \n",
    "plot_vol(implied_vol_list, implied_vol_given_list, strike_price_list)"
   ]
  }
 ],
 "metadata": {
  "kernelspec": {
   "display_name": "Python 3",
   "language": "python",
   "name": "python3"
  },
  "language_info": {
   "codemirror_mode": {
    "name": "ipython",
    "version": 3
   },
   "file_extension": ".py",
   "mimetype": "text/x-python",
   "name": "python",
   "nbconvert_exporter": "python",
   "pygments_lexer": "ipython3",
   "version": "3.8.3"
  }
 },
 "nbformat": 4,
 "nbformat_minor": 4
}
